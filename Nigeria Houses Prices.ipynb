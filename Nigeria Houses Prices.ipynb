{
 "cells": [
  {
   "cell_type": "markdown",
   "id": "bf8a605d",
   "metadata": {},
   "source": [
    "## Predicting Nigeria House Prices Using ML\n",
    "\n",
    "Project Description: Exploring the Nigerian house dataset. In this project, we will be performing data cleaning,Exploratory Data Analysis,and finally, building a model to predict the price of a house based on the features in the dataset"
   ]
  },
  {
   "cell_type": "markdown",
   "id": "85890e71",
   "metadata": {},
   "source": [
    "## Import Libraries"
   ]
  },
  {
   "cell_type": "code",
   "execution_count": 1,
   "id": "faac3b53",
   "metadata": {},
   "outputs": [],
   "source": [
    "import numpy as np\n",
    "import pandas as pd\n",
    "import matplotlib.pyplot as plt\n",
    "import seaborn as sns\n",
    "\n",
    "%matplotlib inline"
   ]
  },
  {
   "cell_type": "markdown",
   "id": "11752f92",
   "metadata": {},
   "source": [
    "## Import Dataset\n"
   ]
  },
  {
   "cell_type": "code",
   "execution_count": 2,
   "id": "0e245401",
   "metadata": {},
   "outputs": [
    {
     "data": {
      "text/html": [
       "<div>\n",
       "<style scoped>\n",
       "    .dataframe tbody tr th:only-of-type {\n",
       "        vertical-align: middle;\n",
       "    }\n",
       "\n",
       "    .dataframe tbody tr th {\n",
       "        vertical-align: top;\n",
       "    }\n",
       "\n",
       "    .dataframe thead th {\n",
       "        text-align: right;\n",
       "    }\n",
       "</style>\n",
       "<table border=\"1\" class=\"dataframe\">\n",
       "  <thead>\n",
       "    <tr style=\"text-align: right;\">\n",
       "      <th></th>\n",
       "      <th>bedrooms</th>\n",
       "      <th>bathrooms</th>\n",
       "      <th>toilets</th>\n",
       "      <th>parking_space</th>\n",
       "      <th>title</th>\n",
       "      <th>town</th>\n",
       "      <th>state</th>\n",
       "      <th>price</th>\n",
       "    </tr>\n",
       "  </thead>\n",
       "  <tbody>\n",
       "    <tr>\n",
       "      <th>0</th>\n",
       "      <td>6.0</td>\n",
       "      <td>5.0</td>\n",
       "      <td>5.0</td>\n",
       "      <td>4.0</td>\n",
       "      <td>Detached Duplex</td>\n",
       "      <td>Mabushi</td>\n",
       "      <td>Abuja</td>\n",
       "      <td>450000000.0</td>\n",
       "    </tr>\n",
       "    <tr>\n",
       "      <th>1</th>\n",
       "      <td>4.0</td>\n",
       "      <td>5.0</td>\n",
       "      <td>5.0</td>\n",
       "      <td>4.0</td>\n",
       "      <td>Terraced Duplexes</td>\n",
       "      <td>Katampe</td>\n",
       "      <td>Abuja</td>\n",
       "      <td>800000000.0</td>\n",
       "    </tr>\n",
       "    <tr>\n",
       "      <th>2</th>\n",
       "      <td>4.0</td>\n",
       "      <td>5.0</td>\n",
       "      <td>5.0</td>\n",
       "      <td>4.0</td>\n",
       "      <td>Detached Duplex</td>\n",
       "      <td>Lekki</td>\n",
       "      <td>Lagos</td>\n",
       "      <td>120000000.0</td>\n",
       "    </tr>\n",
       "    <tr>\n",
       "      <th>3</th>\n",
       "      <td>4.0</td>\n",
       "      <td>4.0</td>\n",
       "      <td>5.0</td>\n",
       "      <td>6.0</td>\n",
       "      <td>Detached Duplex</td>\n",
       "      <td>Ajah</td>\n",
       "      <td>Lagos</td>\n",
       "      <td>40000000.0</td>\n",
       "    </tr>\n",
       "    <tr>\n",
       "      <th>4</th>\n",
       "      <td>4.0</td>\n",
       "      <td>4.0</td>\n",
       "      <td>5.0</td>\n",
       "      <td>2.0</td>\n",
       "      <td>Semi Detached Duplex</td>\n",
       "      <td>Lekki</td>\n",
       "      <td>Lagos</td>\n",
       "      <td>75000000.0</td>\n",
       "    </tr>\n",
       "  </tbody>\n",
       "</table>\n",
       "</div>"
      ],
      "text/plain": [
       "   bedrooms  bathrooms  toilets  parking_space                 title     town  \\\n",
       "0       6.0        5.0      5.0            4.0       Detached Duplex  Mabushi   \n",
       "1       4.0        5.0      5.0            4.0     Terraced Duplexes  Katampe   \n",
       "2       4.0        5.0      5.0            4.0       Detached Duplex    Lekki   \n",
       "3       4.0        4.0      5.0            6.0       Detached Duplex     Ajah   \n",
       "4       4.0        4.0      5.0            2.0  Semi Detached Duplex    Lekki   \n",
       "\n",
       "   state        price  \n",
       "0  Abuja  450000000.0  \n",
       "1  Abuja  800000000.0  \n",
       "2  Lagos  120000000.0  \n",
       "3  Lagos   40000000.0  \n",
       "4  Lagos   75000000.0  "
      ]
     },
     "execution_count": 2,
     "metadata": {},
     "output_type": "execute_result"
    }
   ],
   "source": [
    "df = pd.read_csv('nigeria_houses_data.csv')\n",
    "df.head()"
   ]
  },
  {
   "cell_type": "markdown",
   "id": "4cb0c531",
   "metadata": {},
   "source": [
    "## Understanding the Data"
   ]
  },
  {
   "cell_type": "code",
   "execution_count": 3,
   "id": "7d93f93a",
   "metadata": {},
   "outputs": [
    {
     "data": {
      "text/plain": [
       "(24326, 8)"
      ]
     },
     "execution_count": 3,
     "metadata": {},
     "output_type": "execute_result"
    }
   ],
   "source": [
    "# shape\n",
    "df.shape"
   ]
  },
  {
   "cell_type": "markdown",
   "id": "b3d2a3e4",
   "metadata": {},
   "source": [
    "# * The dataset contains 24,326 records and 8 features"
   ]
  },
  {
   "cell_type": "code",
   "execution_count": 4,
   "id": "e0c3cb5d",
   "metadata": {},
   "outputs": [
    {
     "data": {
      "text/html": [
       "<div>\n",
       "<style scoped>\n",
       "    .dataframe tbody tr th:only-of-type {\n",
       "        vertical-align: middle;\n",
       "    }\n",
       "\n",
       "    .dataframe tbody tr th {\n",
       "        vertical-align: top;\n",
       "    }\n",
       "\n",
       "    .dataframe thead th {\n",
       "        text-align: right;\n",
       "    }\n",
       "</style>\n",
       "<table border=\"1\" class=\"dataframe\">\n",
       "  <thead>\n",
       "    <tr style=\"text-align: right;\">\n",
       "      <th></th>\n",
       "      <th>bedrooms</th>\n",
       "      <th>bathrooms</th>\n",
       "      <th>toilets</th>\n",
       "      <th>parking_space</th>\n",
       "      <th>price</th>\n",
       "    </tr>\n",
       "  </thead>\n",
       "  <tbody>\n",
       "    <tr>\n",
       "      <th>count</th>\n",
       "      <td>24326.000000</td>\n",
       "      <td>24326.000000</td>\n",
       "      <td>24326.000000</td>\n",
       "      <td>24326.000000</td>\n",
       "      <td>2.432600e+04</td>\n",
       "    </tr>\n",
       "    <tr>\n",
       "      <th>mean</th>\n",
       "      <td>4.338814</td>\n",
       "      <td>4.600798</td>\n",
       "      <td>5.176355</td>\n",
       "      <td>4.041725</td>\n",
       "      <td>3.013802e+08</td>\n",
       "    </tr>\n",
       "    <tr>\n",
       "      <th>std</th>\n",
       "      <td>1.138497</td>\n",
       "      <td>1.163161</td>\n",
       "      <td>1.226253</td>\n",
       "      <td>1.399936</td>\n",
       "      <td>1.220403e+10</td>\n",
       "    </tr>\n",
       "    <tr>\n",
       "      <th>min</th>\n",
       "      <td>1.000000</td>\n",
       "      <td>1.000000</td>\n",
       "      <td>1.000000</td>\n",
       "      <td>1.000000</td>\n",
       "      <td>9.000000e+04</td>\n",
       "    </tr>\n",
       "    <tr>\n",
       "      <th>25%</th>\n",
       "      <td>4.000000</td>\n",
       "      <td>4.000000</td>\n",
       "      <td>5.000000</td>\n",
       "      <td>4.000000</td>\n",
       "      <td>5.200000e+07</td>\n",
       "    </tr>\n",
       "    <tr>\n",
       "      <th>50%</th>\n",
       "      <td>4.000000</td>\n",
       "      <td>5.000000</td>\n",
       "      <td>5.000000</td>\n",
       "      <td>4.000000</td>\n",
       "      <td>8.500000e+07</td>\n",
       "    </tr>\n",
       "    <tr>\n",
       "      <th>75%</th>\n",
       "      <td>5.000000</td>\n",
       "      <td>5.000000</td>\n",
       "      <td>6.000000</td>\n",
       "      <td>4.000000</td>\n",
       "      <td>1.600000e+08</td>\n",
       "    </tr>\n",
       "    <tr>\n",
       "      <th>max</th>\n",
       "      <td>9.000000</td>\n",
       "      <td>9.000000</td>\n",
       "      <td>9.000000</td>\n",
       "      <td>9.000000</td>\n",
       "      <td>1.800000e+12</td>\n",
       "    </tr>\n",
       "  </tbody>\n",
       "</table>\n",
       "</div>"
      ],
      "text/plain": [
       "           bedrooms     bathrooms       toilets  parking_space         price\n",
       "count  24326.000000  24326.000000  24326.000000   24326.000000  2.432600e+04\n",
       "mean       4.338814      4.600798      5.176355       4.041725  3.013802e+08\n",
       "std        1.138497      1.163161      1.226253       1.399936  1.220403e+10\n",
       "min        1.000000      1.000000      1.000000       1.000000  9.000000e+04\n",
       "25%        4.000000      4.000000      5.000000       4.000000  5.200000e+07\n",
       "50%        4.000000      5.000000      5.000000       4.000000  8.500000e+07\n",
       "75%        5.000000      5.000000      6.000000       4.000000  1.600000e+08\n",
       "max        9.000000      9.000000      9.000000       9.000000  1.800000e+12"
      ]
     },
     "execution_count": 4,
     "metadata": {},
     "output_type": "execute_result"
    }
   ],
   "source": [
    "# descriptive stats\n",
    "df.describe()"
   ]
  },
  {
   "cell_type": "code",
   "execution_count": 5,
   "id": "a318f720",
   "metadata": {},
   "outputs": [
    {
     "name": "stdout",
     "output_type": "stream",
     "text": [
      "<class 'pandas.core.frame.DataFrame'>\n",
      "RangeIndex: 24326 entries, 0 to 24325\n",
      "Data columns (total 8 columns):\n",
      " #   Column         Non-Null Count  Dtype  \n",
      "---  ------         --------------  -----  \n",
      " 0   bedrooms       24326 non-null  float64\n",
      " 1   bathrooms      24326 non-null  float64\n",
      " 2   toilets        24326 non-null  float64\n",
      " 3   parking_space  24326 non-null  float64\n",
      " 4   title          24326 non-null  object \n",
      " 5   town           24326 non-null  object \n",
      " 6   state          24326 non-null  object \n",
      " 7   price          24326 non-null  float64\n",
      "dtypes: float64(5), object(3)\n",
      "memory usage: 1.5+ MB\n"
     ]
    }
   ],
   "source": [
    "# info\n",
    "df.info()"
   ]
  },
  {
   "cell_type": "markdown",
   "id": "337317cd",
   "metadata": {},
   "source": [
    "# **There is no missing values and all features are in the appropriate types"
   ]
  },
  {
   "cell_type": "code",
   "execution_count": 6,
   "id": "d1407fa0",
   "metadata": {},
   "outputs": [
    {
     "data": {
      "text/html": [
       "<div>\n",
       "<style scoped>\n",
       "    .dataframe tbody tr th:only-of-type {\n",
       "        vertical-align: middle;\n",
       "    }\n",
       "\n",
       "    .dataframe tbody tr th {\n",
       "        vertical-align: top;\n",
       "    }\n",
       "\n",
       "    .dataframe thead th {\n",
       "        text-align: right;\n",
       "    }\n",
       "</style>\n",
       "<table border=\"1\" class=\"dataframe\">\n",
       "  <thead>\n",
       "    <tr style=\"text-align: right;\">\n",
       "      <th></th>\n",
       "      <th>bedrooms</th>\n",
       "      <th>bathrooms</th>\n",
       "      <th>toilets</th>\n",
       "      <th>parking_space</th>\n",
       "      <th>price</th>\n",
       "    </tr>\n",
       "  </thead>\n",
       "  <tbody>\n",
       "    <tr>\n",
       "      <th>bedrooms</th>\n",
       "      <td>1.000000</td>\n",
       "      <td>0.726557</td>\n",
       "      <td>0.610501</td>\n",
       "      <td>0.158528</td>\n",
       "      <td>0.025734</td>\n",
       "    </tr>\n",
       "    <tr>\n",
       "      <th>bathrooms</th>\n",
       "      <td>0.726557</td>\n",
       "      <td>1.000000</td>\n",
       "      <td>0.719102</td>\n",
       "      <td>0.174129</td>\n",
       "      <td>0.021965</td>\n",
       "    </tr>\n",
       "    <tr>\n",
       "      <th>toilets</th>\n",
       "      <td>0.610501</td>\n",
       "      <td>0.719102</td>\n",
       "      <td>1.000000</td>\n",
       "      <td>0.225345</td>\n",
       "      <td>0.015486</td>\n",
       "    </tr>\n",
       "    <tr>\n",
       "      <th>parking_space</th>\n",
       "      <td>0.158528</td>\n",
       "      <td>0.174129</td>\n",
       "      <td>0.225345</td>\n",
       "      <td>1.000000</td>\n",
       "      <td>0.018370</td>\n",
       "    </tr>\n",
       "    <tr>\n",
       "      <th>price</th>\n",
       "      <td>0.025734</td>\n",
       "      <td>0.021965</td>\n",
       "      <td>0.015486</td>\n",
       "      <td>0.018370</td>\n",
       "      <td>1.000000</td>\n",
       "    </tr>\n",
       "  </tbody>\n",
       "</table>\n",
       "</div>"
      ],
      "text/plain": [
       "               bedrooms  bathrooms   toilets  parking_space     price\n",
       "bedrooms       1.000000   0.726557  0.610501       0.158528  0.025734\n",
       "bathrooms      0.726557   1.000000  0.719102       0.174129  0.021965\n",
       "toilets        0.610501   0.719102  1.000000       0.225345  0.015486\n",
       "parking_space  0.158528   0.174129  0.225345       1.000000  0.018370\n",
       "price          0.025734   0.021965  0.015486       0.018370  1.000000"
      ]
     },
     "execution_count": 6,
     "metadata": {},
     "output_type": "execute_result"
    }
   ],
   "source": [
    "# correlation\n",
    "df.corr()"
   ]
  },
  {
   "cell_type": "code",
   "execution_count": 7,
   "id": "ac20093d",
   "metadata": {},
   "outputs": [
    {
     "data": {
      "text/plain": [
       "<function matplotlib.pyplot.show(close=None, block=None)>"
      ]
     },
     "execution_count": 7,
     "metadata": {},
     "output_type": "execute_result"
    },
    {
     "data": {
      "image/png": "[encoded data removed]",
      "text/plain": [
       "<Figure size 432x288 with 2 Axes>"
      ]
     },
     "metadata": {
      "needs_background": "light"
     },
     "output_type": "display_data"
    }
   ],
   "source": [
    "# visualize the correlation\n",
    "sns.heatmap(df.corr(),annot=True)\n",
    "plt.title(\"Correlations of Dataset\")\n",
    "plt.show"
   ]
  },
  {
   "cell_type": "markdown",
   "id": "af8c4762",
   "metadata": {},
   "source": [
    "# Total numbers of Properties"
   ]
  },
  {
   "cell_type": "code",
   "execution_count": 8,
   "id": "b3dc755c",
   "metadata": {},
   "outputs": [
    {
     "data": {
      "text/plain": [
       "24326"
      ]
     },
     "execution_count": 8,
     "metadata": {},
     "output_type": "execute_result"
    }
   ],
   "source": [
    "len(df)"
   ]
  },
  {
   "cell_type": "markdown",
   "id": "3a6d302e",
   "metadata": {},
   "source": [
    "## Unique Titles of Properties"
   ]
  },
  {
   "cell_type": "code",
   "execution_count": 9,
   "id": "a0a22b5a",
   "metadata": {},
   "outputs": [
    {
     "name": "stdout",
     "output_type": "stream",
     "text": [
      "*Detached Duplex\n",
      "*Terraced Duplexes\n",
      "*Semi Detached Duplex\n",
      "*Detached Bungalow\n",
      "*Block of Flats\n",
      "*Semi Detached Bungalow\n",
      "*Terraced Bungalow\n",
      "\n",
      "There are 7unique titles.\n"
     ]
    }
   ],
   "source": [
    "for t in df['title'].unique():\n",
    "    print(f\"*{t}\")\n",
    "    \n",
    "# print length\n",
    "print(f\"\\nThere are {len(df['title'].unique())}unique titles.\")"
   ]
  },
  {
   "cell_type": "markdown",
   "id": "b199123f",
   "metadata": {},
   "source": [
    "## Unique States of Properties"
   ]
  },
  {
   "cell_type": "code",
   "execution_count": 10,
   "id": "a5e618b1",
   "metadata": {},
   "outputs": [
    {
     "name": "stdout",
     "output_type": "stream",
     "text": [
      "*Abuja\n",
      "*Lagos\n",
      "*Edo\n",
      "*Ogun\n",
      "*Oyo\n",
      "*Imo\n",
      "*Anambara\n",
      "*Rivers\n",
      "*Enugu\n",
      "*Kaduna\n",
      "*Kwara\n",
      "*Nasarawa\n",
      "*Abia\n",
      "*Delta\n",
      "*Akwa Ibom\n",
      "*Osun\n",
      "*Ekiti\n",
      "*Cross River\n",
      "*Kogi\n",
      "*Plateau\n",
      "*Kano\n",
      "*Katsina\n",
      "*Bayelsa\n",
      "*Borno\n",
      "*Niger\n",
      "\n",
      "There are 25unique states.\n"
     ]
    }
   ],
   "source": [
    "for t in df['state'].unique():\n",
    "    print(f\"*{t}\")\n",
    "    \n",
    "# print length\n",
    "print(f\"\\nThere are {len(df['state'].unique())}unique states.\")"
   ]
  },
  {
   "cell_type": "markdown",
   "id": "112b6463",
   "metadata": {},
   "source": [
    "## Unique Towns of Properties"
   ]
  },
  {
   "cell_type": "code",
   "execution_count": 11,
   "id": "303a7887",
   "metadata": {},
   "outputs": [
    {
     "name": "stdout",
     "output_type": "stream",
     "text": [
      "*Mabushi\n",
      "*Katampe\n",
      "*Lekki\n",
      "*Ajah\n",
      "*Epe\n",
      "*Lokogoma District\n",
      "*Oredo\n",
      "*Victoria Island (VI)\n",
      "*Mowe Ofada\n",
      "*Ikeja\n",
      "*Ikoyi\n",
      "*Magodo\n",
      "*Kaura\n",
      "*Galadimawa\n",
      "*Gwarinpa\n",
      "*Abeokuta North\n",
      "*Lugbe District\n",
      "*Ibeju Lekki\n",
      "*Yaba\n",
      "*Sango Ota\n",
      "*Ifako-Ijaiye\n",
      "*Agege\n",
      "*Ikorodu\n",
      "*Jahi\n",
      "*Ibadan\n",
      "*Orozo\n",
      "*Ifo\n",
      "*Owerri North\n",
      "*Guzape District\n",
      "*Idu Industrial\n",
      "*Owerri Municipal\n",
      "*Isheri North\n",
      "*Utako\n",
      "*Port Harcourt\n",
      "*Kuje\n",
      "*Isheri\n",
      "*Life Camp\n",
      "*Ipaja\n",
      "*Ado-Odo/Ota\n",
      "*Dape\n",
      "*Mushin\n",
      "*Ejigbo\n",
      "*Isolo\n",
      "*Ojodu\n",
      "*Gaduwa\n",
      "*Enugu\n",
      "*Dakwo\n",
      "*Asokoro District\n",
      "*Alimosho\n",
      "*Sagamu\n",
      "*Chikun\n",
      "*Egbeda\n",
      "*Wuye\n",
      "*Kubwa\n",
      "*Shomolu\n",
      "*Ogudu\n",
      "*Owerri West\n",
      "*Ibafo\n",
      "*Surulere\n",
      "*Obio-Akpor\n",
      "*Ayobo\n",
      "*Apo\n",
      "*Mowe Town\n",
      "*Ibadan South-West\n",
      "*Wuse 2\n",
      "*Durumi\n",
      "*Simawa\n",
      "*Arepo\n",
      "*Ikotun\n",
      "*Oluyole\n",
      "*Maitama District\n",
      "*Maryland\n",
      "*Ido\n",
      "*Karsana\n",
      "*Wuse\n",
      "*Ilorin West\n",
      "*Kurudu\n",
      "*Karmo\n",
      "*Abeokuta South\n",
      "*KM 46\n",
      "*Gbagada\n",
      "*Idimu\n",
      "*Kaduna South\n",
      "*Magboro\n",
      "*Gudu\n",
      "*Kukwaba\n",
      "*Mbora (Nbora)\n",
      "*Obafemi Owode\n",
      "*Jabi\n",
      "*Karu\n",
      "*Ojo\n",
      "*Garki\n",
      "*Aba\n",
      "*Ogijo\n",
      "*Asaba\n",
      "*Uyo\n",
      "*Kosofe\n",
      "*Oyigbo\n",
      "*Karshi\n",
      "*Osogbo\n",
      "*Kado\n",
      "*Ilupeju\n",
      "*Afijio\n",
      "*Ketu\n",
      "*Ado-Ekiti\n",
      "*Ibadan North\n",
      "*Egor\n",
      "*Nyanya\n",
      "*Ibarapa North\n",
      "*Kyami\n",
      "*Ojota\n",
      "*Dutse\n",
      "*Nasarawa\n",
      "*Calabar\n",
      "*Kaduna North\n",
      "*Eleme\n",
      "*Kafe\n",
      "*Oshodi\n",
      "*Dakibiyu\n",
      "*Amuwo Odofin\n",
      "*Ijede\n",
      "*Bwari\n",
      "*Dekina\n",
      "*Jos South\n",
      "*Agbara-Igbesa\n",
      "*Ijaiye\n",
      "*Kagini\n",
      "*Ohaji/Egbema\n",
      "*Mpape\n",
      "*Apapa\n",
      "*Lagos Island\n",
      "*Gwagwalada\n",
      "*Ijoko\n",
      "*Diplomatic Zones\n",
      "*Akure\n",
      "*Ethiope West\n",
      "*Badagry\n",
      "*Kano\n",
      "*Ede South\n",
      "*Ilorin South\n",
      "*Oke-Aro\n",
      "*Oke-Odo\n",
      "*Ikot Ekpene\n",
      "*Kusada\n",
      "*Akinyele\n",
      "*Kabusa\n",
      "*Dei-Dei\n",
      "*Eket\n",
      "*Egbe\n",
      "*Udu\n",
      "*Ibadan North-East\n",
      "*Danja\n",
      "*Yewa South\n",
      "*Warri\n",
      "*Duboyi\n",
      "*Jikwoyi\n",
      "*Oyo West\n",
      "*Agbara\n",
      "*Ovia North-East\n",
      "*Yenagoa\n",
      "*Central Business District\n",
      "*Guzamala\n",
      "*Lokoja\n",
      "*Jos North\n",
      "*Orile\n",
      "*Wumba\n",
      "*Ibadan North-West\n",
      "*Eko Atlantic City\n",
      "*Imota\n",
      "*Ikwerre\n",
      "*Keffi\n",
      "*Ilorin East\n",
      "*Uvwie\n",
      "*Umuahia\n",
      "*Ijesha\n",
      "*Okene\n",
      "*Aniocha South\n",
      "*Ijebu Ode\n",
      "*Okpe\n",
      "*Ughelli South\n",
      "*Ewekoro\n",
      "*Nassarawa\n",
      "*Mararaba\n",
      "*Uhunmwonde\n",
      "*Ughelli North\n",
      "*Ibeju\n",
      "*Abraka\n",
      "*Paikoro\n",
      "*Ikpoba Okha\n",
      "\n",
      "There are 189unique towns.\n"
     ]
    }
   ],
   "source": [
    "for t in df['town'].unique():\n",
    "    print(f\"*{t}\")\n",
    "    \n",
    "# print length\n",
    "print(f\"\\nThere are {len(df['town'].unique())}unique towns.\")"
   ]
  },
  {
   "cell_type": "markdown",
   "id": "aeb81503",
   "metadata": {},
   "source": [
    "## Univariant Analysis\n",
    "\n",
    "Distribution of Prices"
   ]
  },
  {
   "cell_type": "code",
   "execution_count": 12,
   "id": "27090900",
   "metadata": {
    "scrolled": true
   },
   "outputs": [
    {
     "data": {
      "image/png": "[encoded data removed]",
      "text/plain": [
       "<Figure size 432x288 with 1 Axes>"
      ]
     },
     "metadata": {
      "needs_background": "light"
     },
     "output_type": "display_data"
    }
   ],
   "source": [
    "sns.histplot(df['price'],bins=20,kde=True)\n",
    "plt.title('Distribution of Prices')\n",
    "plt.xlabel('Prices')\n",
    "plt.ylabel('Counts')\n",
    "plt.show()"
   ]
  },
  {
   "cell_type": "markdown",
   "id": "1803456e",
   "metadata": {},
   "source": [
    "## Bivariate Analysis\n",
    "* Count of Houses by state"
   ]
  },
  {
   "cell_type": "code",
   "execution_count": 13,
   "id": "85a3ae9d",
   "metadata": {
    "scrolled": true
   },
   "outputs": [
    {
     "data": {
      "text/plain": [
       "Lagos          18445\n",
       "Abuja           3524\n",
       "Ogun             637\n",
       "Oyo              477\n",
       "Rivers           444\n",
       "Imo              246\n",
       "Anambara         145\n",
       "Enugu            128\n",
       "Edo              100\n",
       "Delta             63\n",
       "Akwa Ibom         25\n",
       "Kaduna            23\n",
       "Osun              12\n",
       "Ekiti              9\n",
       "Abia               9\n",
       "Nasarawa           9\n",
       "Kwara              9\n",
       "Kogi               8\n",
       "Cross River        2\n",
       "Plateau            2\n",
       "Kano               2\n",
       "Katsina            2\n",
       "Bayelsa            2\n",
       "Borno              2\n",
       "Niger              1\n",
       "Name: state, dtype: int64"
      ]
     },
     "execution_count": 13,
     "metadata": {},
     "output_type": "execute_result"
    }
   ],
   "source": [
    "df['state'].value_counts()"
   ]
  },
  {
   "cell_type": "code",
   "execution_count": 14,
   "id": "d58ef392",
   "metadata": {},
   "outputs": [],
   "source": [
    "count_by_state = df['state'].value_counts()[0:10]"
   ]
  },
  {
   "cell_type": "code",
   "execution_count": 15,
   "id": "c7e7e4d0",
   "metadata": {},
   "outputs": [
    {
     "data": {
      "image/png": "[encoded data removed]",
      "text/plain": [
       "<Figure size 432x288 with 1 Axes>"
      ]
     },
     "metadata": {
      "needs_background": "light"
     },
     "output_type": "display_data"
    }
   ],
   "source": [
    "sns.barplot(x =count_by_state.index, y= count_by_state.values)\n",
    "plt.title('Numbers of houses by State')\n",
    "plt.xlabel('State')\n",
    "plt.ylabel('Number of Houses')\n",
    "plt.xticks(rotation=45)\n",
    "plt.show()"
   ]
  },
  {
   "cell_type": "markdown",
   "id": "4cc1cd0f",
   "metadata": {},
   "source": [
    "**There are High numbers of housing in Lagos,followed by Abuja and Ogun"
   ]
  },
  {
   "cell_type": "markdown",
   "id": "dd237641",
   "metadata": {},
   "source": [
    "## * Count of houses by Title"
   ]
  },
  {
   "cell_type": "code",
   "execution_count": 16,
   "id": "de5cc35f",
   "metadata": {
    "scrolled": true
   },
   "outputs": [
    {
     "data": {
      "text/plain": [
       "Detached Duplex           13992\n",
       "Terraced Duplexes          3237\n",
       "Semi Detached Duplex       2615\n",
       "Detached Bungalow          2108\n",
       "Block of Flats             1745\n",
       "Semi Detached Bungalow      452\n",
       "Terraced Bungalow           177\n",
       "Name: title, dtype: int64"
      ]
     },
     "execution_count": 16,
     "metadata": {},
     "output_type": "execute_result"
    }
   ],
   "source": [
    "df['title'].value_counts()"
   ]
  },
  {
   "cell_type": "code",
   "execution_count": 17,
   "id": "c86a0161",
   "metadata": {},
   "outputs": [],
   "source": [
    "count_by_title = df['title'].value_counts()[0:10]"
   ]
  },
  {
   "cell_type": "code",
   "execution_count": 18,
   "id": "3890f3e4",
   "metadata": {},
   "outputs": [
    {
     "data": {
      "image/png": "[encoded data removed]",
      "text/plain": [
       "<Figure size 432x288 with 1 Axes>"
      ]
     },
     "metadata": {
      "needs_background": "light"
     },
     "output_type": "display_data"
    }
   ],
   "source": [
    "sns.barplot(x =count_by_title.index, y= count_by_title.values)\n",
    "plt.title('Numbers of houses by Title')\n",
    "plt.xlabel('Title')\n",
    "plt.ylabel('Number of Houses')\n",
    "plt.xticks(rotation=45)\n",
    "plt.show()"
   ]
  },
  {
   "cell_type": "markdown",
   "id": "7dcf6801",
   "metadata": {},
   "source": [
    "## * Average price by State"
   ]
  },
  {
   "cell_type": "code",
   "execution_count": 19,
   "id": "ea6712bc",
   "metadata": {
    "scrolled": true
   },
   "outputs": [
    {
     "data": {
      "text/html": [
       "<div>\n",
       "<style scoped>\n",
       "    .dataframe tbody tr th:only-of-type {\n",
       "        vertical-align: middle;\n",
       "    }\n",
       "\n",
       "    .dataframe tbody tr th {\n",
       "        vertical-align: top;\n",
       "    }\n",
       "\n",
       "    .dataframe thead th {\n",
       "        text-align: right;\n",
       "    }\n",
       "</style>\n",
       "<table border=\"1\" class=\"dataframe\">\n",
       "  <thead>\n",
       "    <tr style=\"text-align: right;\">\n",
       "      <th></th>\n",
       "      <th>state</th>\n",
       "      <th>price</th>\n",
       "    </tr>\n",
       "  </thead>\n",
       "  <tbody>\n",
       "    <tr>\n",
       "      <th>0</th>\n",
       "      <td>Lagos</td>\n",
       "      <td>3.457721e+08</td>\n",
       "    </tr>\n",
       "    <tr>\n",
       "      <th>1</th>\n",
       "      <td>Abuja</td>\n",
       "      <td>2.279246e+08</td>\n",
       "    </tr>\n",
       "    <tr>\n",
       "      <th>2</th>\n",
       "      <td>Rivers</td>\n",
       "      <td>1.303284e+08</td>\n",
       "    </tr>\n",
       "    <tr>\n",
       "      <th>3</th>\n",
       "      <td>Borno</td>\n",
       "      <td>1.050000e+08</td>\n",
       "    </tr>\n",
       "    <tr>\n",
       "      <th>4</th>\n",
       "      <td>Delta</td>\n",
       "      <td>1.030238e+08</td>\n",
       "    </tr>\n",
       "    <tr>\n",
       "      <th>5</th>\n",
       "      <td>Anambara</td>\n",
       "      <td>9.465267e+07</td>\n",
       "    </tr>\n",
       "    <tr>\n",
       "      <th>6</th>\n",
       "      <td>Abia</td>\n",
       "      <td>9.222222e+07</td>\n",
       "    </tr>\n",
       "    <tr>\n",
       "      <th>7</th>\n",
       "      <td>Bayelsa</td>\n",
       "      <td>9.000000e+07</td>\n",
       "    </tr>\n",
       "    <tr>\n",
       "      <th>8</th>\n",
       "      <td>Imo</td>\n",
       "      <td>7.472561e+07</td>\n",
       "    </tr>\n",
       "    <tr>\n",
       "      <th>9</th>\n",
       "      <td>Enugu</td>\n",
       "      <td>6.655977e+07</td>\n",
       "    </tr>\n",
       "  </tbody>\n",
       "</table>\n",
       "</div>"
      ],
      "text/plain": [
       "      state         price\n",
       "0     Lagos  3.457721e+08\n",
       "1     Abuja  2.279246e+08\n",
       "2    Rivers  1.303284e+08\n",
       "3     Borno  1.050000e+08\n",
       "4     Delta  1.030238e+08\n",
       "5  Anambara  9.465267e+07\n",
       "6      Abia  9.222222e+07\n",
       "7   Bayelsa  9.000000e+07\n",
       "8       Imo  7.472561e+07\n",
       "9     Enugu  6.655977e+07"
      ]
     },
     "execution_count": 19,
     "metadata": {},
     "output_type": "execute_result"
    }
   ],
   "source": [
    "df[['state','price']].groupby(by=df['state']).mean().sort_values('price',ascending=False).reset_index()[0:10]"
   ]
  },
  {
   "cell_type": "code",
   "execution_count": 20,
   "id": "f84360c8",
   "metadata": {},
   "outputs": [],
   "source": [
    "avg_price_by_state = df[['state','price']].groupby(by=df['state']).mean().sort_values('price',ascending=False).reset_index()[0:10]"
   ]
  },
  {
   "cell_type": "code",
   "execution_count": 21,
   "id": "9d4cd025",
   "metadata": {},
   "outputs": [
    {
     "data": {
      "image/png": "[encoded data removed]",
      "text/plain": [
       "<Figure size 432x288 with 1 Axes>"
      ]
     },
     "metadata": {
      "needs_background": "light"
     },
     "output_type": "display_data"
    }
   ],
   "source": [
    "sns.barplot(x =avg_price_by_state['state'], y= avg_price_by_state['price'])\n",
    "plt.title('Average prices by State')\n",
    "plt.xlabel('State')\n",
    "plt.ylabel('Average Price')\n",
    "plt.xticks(rotation=45)\n",
    "plt.show()"
   ]
  },
  {
   "cell_type": "markdown",
   "id": "efb2a560",
   "metadata": {},
   "source": [
    "\n",
    "## * Average price by Town"
   ]
  },
  {
   "cell_type": "code",
   "execution_count": 22,
   "id": "4f96ed61",
   "metadata": {},
   "outputs": [
    {
     "data": {
      "text/html": [
       "<div>\n",
       "<style scoped>\n",
       "    .dataframe tbody tr th:only-of-type {\n",
       "        vertical-align: middle;\n",
       "    }\n",
       "\n",
       "    .dataframe tbody tr th {\n",
       "        vertical-align: top;\n",
       "    }\n",
       "\n",
       "    .dataframe thead th {\n",
       "        text-align: right;\n",
       "    }\n",
       "</style>\n",
       "<table border=\"1\" class=\"dataframe\">\n",
       "  <thead>\n",
       "    <tr style=\"text-align: right;\">\n",
       "      <th></th>\n",
       "      <th>town</th>\n",
       "      <th>price</th>\n",
       "    </tr>\n",
       "  </thead>\n",
       "  <tbody>\n",
       "    <tr>\n",
       "      <th>0</th>\n",
       "      <td>Ikoyi</td>\n",
       "      <td>2.262708e+09</td>\n",
       "    </tr>\n",
       "    <tr>\n",
       "      <th>1</th>\n",
       "      <td>Maitama District</td>\n",
       "      <td>7.137640e+08</td>\n",
       "    </tr>\n",
       "    <tr>\n",
       "      <th>2</th>\n",
       "      <td>Ifako-Ijaiye</td>\n",
       "      <td>6.683900e+08</td>\n",
       "    </tr>\n",
       "    <tr>\n",
       "      <th>3</th>\n",
       "      <td>Asokoro District</td>\n",
       "      <td>6.021501e+08</td>\n",
       "    </tr>\n",
       "    <tr>\n",
       "      <th>4</th>\n",
       "      <td>Guzape District</td>\n",
       "      <td>4.885660e+08</td>\n",
       "    </tr>\n",
       "    <tr>\n",
       "      <th>5</th>\n",
       "      <td>Katampe</td>\n",
       "      <td>3.982134e+08</td>\n",
       "    </tr>\n",
       "    <tr>\n",
       "      <th>6</th>\n",
       "      <td>Dakibiyu</td>\n",
       "      <td>3.872143e+08</td>\n",
       "    </tr>\n",
       "    <tr>\n",
       "      <th>7</th>\n",
       "      <td>Apapa</td>\n",
       "      <td>3.010000e+08</td>\n",
       "    </tr>\n",
       "    <tr>\n",
       "      <th>8</th>\n",
       "      <td>Victoria Island (VI)</td>\n",
       "      <td>2.814776e+08</td>\n",
       "    </tr>\n",
       "    <tr>\n",
       "      <th>9</th>\n",
       "      <td>Wuse 2</td>\n",
       "      <td>2.693368e+08</td>\n",
       "    </tr>\n",
       "  </tbody>\n",
       "</table>\n",
       "</div>"
      ],
      "text/plain": [
       "                   town         price\n",
       "0                 Ikoyi  2.262708e+09\n",
       "1      Maitama District  7.137640e+08\n",
       "2          Ifako-Ijaiye  6.683900e+08\n",
       "3      Asokoro District  6.021501e+08\n",
       "4       Guzape District  4.885660e+08\n",
       "5               Katampe  3.982134e+08\n",
       "6              Dakibiyu  3.872143e+08\n",
       "7                 Apapa  3.010000e+08\n",
       "8  Victoria Island (VI)  2.814776e+08\n",
       "9                Wuse 2  2.693368e+08"
      ]
     },
     "execution_count": 22,
     "metadata": {},
     "output_type": "execute_result"
    }
   ],
   "source": [
    "avg_price_by_town = df[['town','price']].groupby(by=df['town']).mean().sort_values('price',ascending=False).reset_index()[0:10]\n",
    "avg_price_by_town"
   ]
  },
  {
   "cell_type": "code",
   "execution_count": 23,
   "id": "c6fc503f",
   "metadata": {},
   "outputs": [
    {
     "data": {
      "image/png": "[encoded data removed]",
      "text/plain": [
       "<Figure size 432x288 with 1 Axes>"
      ]
     },
     "metadata": {
      "needs_background": "light"
     },
     "output_type": "display_data"
    }
   ],
   "source": [
    "sns.barplot(x =avg_price_by_town['town'], y= avg_price_by_town['price'])\n",
    "plt.title('Average prices by Town')\n",
    "plt.xlabel('Town')\n",
    "plt.ylabel('Average Price')\n",
    "plt.xticks(rotation=45)\n",
    "plt.show()"
   ]
  },
  {
   "cell_type": "markdown",
   "id": "fabe7650",
   "metadata": {},
   "source": [
    "\n",
    "## * Average price by Title"
   ]
  },
  {
   "cell_type": "code",
   "execution_count": 25,
   "id": "4f888f57",
   "metadata": {},
   "outputs": [
    {
     "data": {
      "text/html": [
       "<div>\n",
       "<style scoped>\n",
       "    .dataframe tbody tr th:only-of-type {\n",
       "        vertical-align: middle;\n",
       "    }\n",
       "\n",
       "    .dataframe tbody tr th {\n",
       "        vertical-align: top;\n",
       "    }\n",
       "\n",
       "    .dataframe thead th {\n",
       "        text-align: right;\n",
       "    }\n",
       "</style>\n",
       "<table border=\"1\" class=\"dataframe\">\n",
       "  <thead>\n",
       "    <tr style=\"text-align: right;\">\n",
       "      <th></th>\n",
       "      <th>title</th>\n",
       "      <th>price</th>\n",
       "    </tr>\n",
       "  </thead>\n",
       "  <tbody>\n",
       "    <tr>\n",
       "      <th>0</th>\n",
       "      <td>Detached Duplex</td>\n",
       "      <td>4.003036e+08</td>\n",
       "    </tr>\n",
       "    <tr>\n",
       "      <th>1</th>\n",
       "      <td>Semi Detached Duplex</td>\n",
       "      <td>3.498845e+08</td>\n",
       "    </tr>\n",
       "    <tr>\n",
       "      <th>2</th>\n",
       "      <td>Block of Flats</td>\n",
       "      <td>1.757386e+08</td>\n",
       "    </tr>\n",
       "    <tr>\n",
       "      <th>3</th>\n",
       "      <td>Terraced Duplexes</td>\n",
       "      <td>1.219755e+08</td>\n",
       "    </tr>\n",
       "    <tr>\n",
       "      <th>4</th>\n",
       "      <td>Terraced Bungalow</td>\n",
       "      <td>4.448170e+07</td>\n",
       "    </tr>\n",
       "    <tr>\n",
       "      <th>5</th>\n",
       "      <td>Detached Bungalow</td>\n",
       "      <td>4.263333e+07</td>\n",
       "    </tr>\n",
       "    <tr>\n",
       "      <th>6</th>\n",
       "      <td>Semi Detached Bungalow</td>\n",
       "      <td>3.569936e+07</td>\n",
       "    </tr>\n",
       "  </tbody>\n",
       "</table>\n",
       "</div>"
      ],
      "text/plain": [
       "                    title         price\n",
       "0         Detached Duplex  4.003036e+08\n",
       "1    Semi Detached Duplex  3.498845e+08\n",
       "2          Block of Flats  1.757386e+08\n",
       "3       Terraced Duplexes  1.219755e+08\n",
       "4       Terraced Bungalow  4.448170e+07\n",
       "5       Detached Bungalow  4.263333e+07\n",
       "6  Semi Detached Bungalow  3.569936e+07"
      ]
     },
     "execution_count": 25,
     "metadata": {},
     "output_type": "execute_result"
    }
   ],
   "source": [
    "avg_price_by_title = df[['title','price']].groupby(by=df['title']).mean().sort_values('price',ascending=False).reset_index()[0:10]\n",
    "avg_price_by_title"
   ]
  },
  {
   "cell_type": "code",
   "execution_count": 26,
   "id": "2466050c",
   "metadata": {},
   "outputs": [
    {
     "data": {
      "image/png": "[encoded data removed]",
      "text/plain": [
       "<Figure size 432x288 with 1 Axes>"
      ]
     },
     "metadata": {
      "needs_background": "light"
     },
     "output_type": "display_data"
    }
   ],
   "source": [
    "sns.barplot(x =avg_price_by_title['title'], y= avg_price_by_title['price'])\n",
    "plt.title('Average prices by Title')\n",
    "plt.xlabel('title')\n",
    "plt.ylabel('Average Price')\n",
    "plt.xticks(rotation=45)\n",
    "plt.show()"
   ]
  },
  {
   "cell_type": "markdown",
   "id": "f07bdbaf",
   "metadata": {},
   "source": [
    "## Model Building"
   ]
  },
  {
   "cell_type": "code",
   "execution_count": 27,
   "id": "0bdcb6b3",
   "metadata": {},
   "outputs": [],
   "source": [
    "from sklearn.linear_model import LinearRegression\n",
    "from sklearn.model_selection import train_test_split\n",
    "\n",
    "from sklearn.preprocessing import OneHotEncoder #for encoding"
   ]
  },
  {
   "cell_type": "code",
   "execution_count": 28,
   "id": "f770480e",
   "metadata": {},
   "outputs": [
    {
     "data": {
      "text/plain": [
       "OneHotEncoder()"
      ]
     },
     "execution_count": 28,
     "metadata": {},
     "output_type": "execute_result"
    }
   ],
   "source": [
    "he = OneHotEncoder()\n",
    "he.fit(df)"
   ]
  },
  {
   "cell_type": "code",
   "execution_count": 50,
   "id": "381f740d",
   "metadata": {},
   "outputs": [
    {
     "data": {
      "text/html": [
       "<div>\n",
       "<style scoped>\n",
       "    .dataframe tbody tr th:only-of-type {\n",
       "        vertical-align: middle;\n",
       "    }\n",
       "\n",
       "    .dataframe tbody tr th {\n",
       "        vertical-align: top;\n",
       "    }\n",
       "\n",
       "    .dataframe thead th {\n",
       "        text-align: right;\n",
       "    }\n",
       "</style>\n",
       "<table border=\"1\" class=\"dataframe\">\n",
       "  <thead>\n",
       "    <tr style=\"text-align: right;\">\n",
       "      <th></th>\n",
       "      <th>bedrooms</th>\n",
       "      <th>bathrooms</th>\n",
       "      <th>toilets</th>\n",
       "      <th>parking_space</th>\n",
       "      <th>price</th>\n",
       "      <th>title_Block of Flats</th>\n",
       "      <th>title_Detached Bungalow</th>\n",
       "      <th>title_Detached Duplex</th>\n",
       "      <th>title_Semi Detached Bungalow</th>\n",
       "      <th>title_Semi Detached Duplex</th>\n",
       "      <th>...</th>\n",
       "      <th>state_Kogi</th>\n",
       "      <th>state_Kwara</th>\n",
       "      <th>state_Lagos</th>\n",
       "      <th>state_Nasarawa</th>\n",
       "      <th>state_Niger</th>\n",
       "      <th>state_Ogun</th>\n",
       "      <th>state_Osun</th>\n",
       "      <th>state_Oyo</th>\n",
       "      <th>state_Plateau</th>\n",
       "      <th>state_Rivers</th>\n",
       "    </tr>\n",
       "  </thead>\n",
       "  <tbody>\n",
       "    <tr>\n",
       "      <th>0</th>\n",
       "      <td>6.0</td>\n",
       "      <td>5.0</td>\n",
       "      <td>5.0</td>\n",
       "      <td>4.0</td>\n",
       "      <td>450000000.0</td>\n",
       "      <td>0</td>\n",
       "      <td>0</td>\n",
       "      <td>1</td>\n",
       "      <td>0</td>\n",
       "      <td>0</td>\n",
       "      <td>...</td>\n",
       "      <td>0</td>\n",
       "      <td>0</td>\n",
       "      <td>0</td>\n",
       "      <td>0</td>\n",
       "      <td>0</td>\n",
       "      <td>0</td>\n",
       "      <td>0</td>\n",
       "      <td>0</td>\n",
       "      <td>0</td>\n",
       "      <td>0</td>\n",
       "    </tr>\n",
       "    <tr>\n",
       "      <th>1</th>\n",
       "      <td>4.0</td>\n",
       "      <td>5.0</td>\n",
       "      <td>5.0</td>\n",
       "      <td>4.0</td>\n",
       "      <td>800000000.0</td>\n",
       "      <td>0</td>\n",
       "      <td>0</td>\n",
       "      <td>0</td>\n",
       "      <td>0</td>\n",
       "      <td>0</td>\n",
       "      <td>...</td>\n",
       "      <td>0</td>\n",
       "      <td>0</td>\n",
       "      <td>0</td>\n",
       "      <td>0</td>\n",
       "      <td>0</td>\n",
       "      <td>0</td>\n",
       "      <td>0</td>\n",
       "      <td>0</td>\n",
       "      <td>0</td>\n",
       "      <td>0</td>\n",
       "    </tr>\n",
       "    <tr>\n",
       "      <th>2</th>\n",
       "      <td>4.0</td>\n",
       "      <td>5.0</td>\n",
       "      <td>5.0</td>\n",
       "      <td>4.0</td>\n",
       "      <td>120000000.0</td>\n",
       "      <td>0</td>\n",
       "      <td>0</td>\n",
       "      <td>1</td>\n",
       "      <td>0</td>\n",
       "      <td>0</td>\n",
       "      <td>...</td>\n",
       "      <td>0</td>\n",
       "      <td>0</td>\n",
       "      <td>1</td>\n",
       "      <td>0</td>\n",
       "      <td>0</td>\n",
       "      <td>0</td>\n",
       "      <td>0</td>\n",
       "      <td>0</td>\n",
       "      <td>0</td>\n",
       "      <td>0</td>\n",
       "    </tr>\n",
       "    <tr>\n",
       "      <th>3</th>\n",
       "      <td>4.0</td>\n",
       "      <td>4.0</td>\n",
       "      <td>5.0</td>\n",
       "      <td>6.0</td>\n",
       "      <td>40000000.0</td>\n",
       "      <td>0</td>\n",
       "      <td>0</td>\n",
       "      <td>1</td>\n",
       "      <td>0</td>\n",
       "      <td>0</td>\n",
       "      <td>...</td>\n",
       "      <td>0</td>\n",
       "      <td>0</td>\n",
       "      <td>1</td>\n",
       "      <td>0</td>\n",
       "      <td>0</td>\n",
       "      <td>0</td>\n",
       "      <td>0</td>\n",
       "      <td>0</td>\n",
       "      <td>0</td>\n",
       "      <td>0</td>\n",
       "    </tr>\n",
       "    <tr>\n",
       "      <th>4</th>\n",
       "      <td>4.0</td>\n",
       "      <td>4.0</td>\n",
       "      <td>5.0</td>\n",
       "      <td>2.0</td>\n",
       "      <td>75000000.0</td>\n",
       "      <td>0</td>\n",
       "      <td>0</td>\n",
       "      <td>0</td>\n",
       "      <td>0</td>\n",
       "      <td>1</td>\n",
       "      <td>...</td>\n",
       "      <td>0</td>\n",
       "      <td>0</td>\n",
       "      <td>1</td>\n",
       "      <td>0</td>\n",
       "      <td>0</td>\n",
       "      <td>0</td>\n",
       "      <td>0</td>\n",
       "      <td>0</td>\n",
       "      <td>0</td>\n",
       "      <td>0</td>\n",
       "    </tr>\n",
       "  </tbody>\n",
       "</table>\n",
       "<p>5 rows × 226 columns</p>\n",
       "</div>"
      ],
      "text/plain": [
       "   bedrooms  bathrooms  toilets  parking_space        price  \\\n",
       "0       6.0        5.0      5.0            4.0  450000000.0   \n",
       "1       4.0        5.0      5.0            4.0  800000000.0   \n",
       "2       4.0        5.0      5.0            4.0  120000000.0   \n",
       "3       4.0        4.0      5.0            6.0   40000000.0   \n",
       "4       4.0        4.0      5.0            2.0   75000000.0   \n",
       "\n",
       "   title_Block of Flats  title_Detached Bungalow  title_Detached Duplex  \\\n",
       "0                     0                        0                      1   \n",
       "1                     0                        0                      0   \n",
       "2                     0                        0                      1   \n",
       "3                     0                        0                      1   \n",
       "4                     0                        0                      0   \n",
       "\n",
       "   title_Semi Detached Bungalow  title_Semi Detached Duplex  ...  state_Kogi  \\\n",
       "0                             0                           0  ...           0   \n",
       "1                             0                           0  ...           0   \n",
       "2                             0                           0  ...           0   \n",
       "3                             0                           0  ...           0   \n",
       "4                             0                           1  ...           0   \n",
       "\n",
       "   state_Kwara  state_Lagos  state_Nasarawa  state_Niger  state_Ogun  \\\n",
       "0            0            0               0            0           0   \n",
       "1            0            0               0            0           0   \n",
       "2            0            1               0            0           0   \n",
       "3            0            1               0            0           0   \n",
       "4            0            1               0            0           0   \n",
       "\n",
       "   state_Osun  state_Oyo  state_Plateau  state_Rivers  \n",
       "0           0          0              0             0  \n",
       "1           0          0              0             0  \n",
       "2           0          0              0             0  \n",
       "3           0          0              0             0  \n",
       "4           0          0              0             0  \n",
       "\n",
       "[5 rows x 226 columns]"
      ]
     },
     "execution_count": 50,
     "metadata": {},
     "output_type": "execute_result"
    }
   ],
   "source": [
    "new_df = pd.get_dummies(df,columns=['title','town','state'])\n",
    "new_df.head()"
   ]
  },
  {
   "cell_type": "code",
   "execution_count": 51,
   "id": "1091eb0d",
   "metadata": {},
   "outputs": [
    {
     "data": {
      "text/html": [
       "<div>\n",
       "<style scoped>\n",
       "    .dataframe tbody tr th:only-of-type {\n",
       "        vertical-align: middle;\n",
       "    }\n",
       "\n",
       "    .dataframe tbody tr th {\n",
       "        vertical-align: top;\n",
       "    }\n",
       "\n",
       "    .dataframe thead th {\n",
       "        text-align: right;\n",
       "    }\n",
       "</style>\n",
       "<table border=\"1\" class=\"dataframe\">\n",
       "  <thead>\n",
       "    <tr style=\"text-align: right;\">\n",
       "      <th></th>\n",
       "      <th>bedrooms</th>\n",
       "      <th>bathrooms</th>\n",
       "      <th>toilets</th>\n",
       "      <th>parking_space</th>\n",
       "      <th>title_Block of Flats</th>\n",
       "      <th>title_Detached Bungalow</th>\n",
       "      <th>title_Detached Duplex</th>\n",
       "      <th>title_Semi Detached Bungalow</th>\n",
       "      <th>title_Semi Detached Duplex</th>\n",
       "      <th>title_Terraced Bungalow</th>\n",
       "      <th>...</th>\n",
       "      <th>state_Kogi</th>\n",
       "      <th>state_Kwara</th>\n",
       "      <th>state_Lagos</th>\n",
       "      <th>state_Nasarawa</th>\n",
       "      <th>state_Niger</th>\n",
       "      <th>state_Ogun</th>\n",
       "      <th>state_Osun</th>\n",
       "      <th>state_Oyo</th>\n",
       "      <th>state_Plateau</th>\n",
       "      <th>state_Rivers</th>\n",
       "    </tr>\n",
       "  </thead>\n",
       "  <tbody>\n",
       "    <tr>\n",
       "      <th>0</th>\n",
       "      <td>6.0</td>\n",
       "      <td>5.0</td>\n",
       "      <td>5.0</td>\n",
       "      <td>4.0</td>\n",
       "      <td>0</td>\n",
       "      <td>0</td>\n",
       "      <td>1</td>\n",
       "      <td>0</td>\n",
       "      <td>0</td>\n",
       "      <td>0</td>\n",
       "      <td>...</td>\n",
       "      <td>0</td>\n",
       "      <td>0</td>\n",
       "      <td>0</td>\n",
       "      <td>0</td>\n",
       "      <td>0</td>\n",
       "      <td>0</td>\n",
       "      <td>0</td>\n",
       "      <td>0</td>\n",
       "      <td>0</td>\n",
       "      <td>0</td>\n",
       "    </tr>\n",
       "    <tr>\n",
       "      <th>1</th>\n",
       "      <td>4.0</td>\n",
       "      <td>5.0</td>\n",
       "      <td>5.0</td>\n",
       "      <td>4.0</td>\n",
       "      <td>0</td>\n",
       "      <td>0</td>\n",
       "      <td>0</td>\n",
       "      <td>0</td>\n",
       "      <td>0</td>\n",
       "      <td>0</td>\n",
       "      <td>...</td>\n",
       "      <td>0</td>\n",
       "      <td>0</td>\n",
       "      <td>0</td>\n",
       "      <td>0</td>\n",
       "      <td>0</td>\n",
       "      <td>0</td>\n",
       "      <td>0</td>\n",
       "      <td>0</td>\n",
       "      <td>0</td>\n",
       "      <td>0</td>\n",
       "    </tr>\n",
       "    <tr>\n",
       "      <th>2</th>\n",
       "      <td>4.0</td>\n",
       "      <td>5.0</td>\n",
       "      <td>5.0</td>\n",
       "      <td>4.0</td>\n",
       "      <td>0</td>\n",
       "      <td>0</td>\n",
       "      <td>1</td>\n",
       "      <td>0</td>\n",
       "      <td>0</td>\n",
       "      <td>0</td>\n",
       "      <td>...</td>\n",
       "      <td>0</td>\n",
       "      <td>0</td>\n",
       "      <td>1</td>\n",
       "      <td>0</td>\n",
       "      <td>0</td>\n",
       "      <td>0</td>\n",
       "      <td>0</td>\n",
       "      <td>0</td>\n",
       "      <td>0</td>\n",
       "      <td>0</td>\n",
       "    </tr>\n",
       "    <tr>\n",
       "      <th>3</th>\n",
       "      <td>4.0</td>\n",
       "      <td>4.0</td>\n",
       "      <td>5.0</td>\n",
       "      <td>6.0</td>\n",
       "      <td>0</td>\n",
       "      <td>0</td>\n",
       "      <td>1</td>\n",
       "      <td>0</td>\n",
       "      <td>0</td>\n",
       "      <td>0</td>\n",
       "      <td>...</td>\n",
       "      <td>0</td>\n",
       "      <td>0</td>\n",
       "      <td>1</td>\n",
       "      <td>0</td>\n",
       "      <td>0</td>\n",
       "      <td>0</td>\n",
       "      <td>0</td>\n",
       "      <td>0</td>\n",
       "      <td>0</td>\n",
       "      <td>0</td>\n",
       "    </tr>\n",
       "    <tr>\n",
       "      <th>4</th>\n",
       "      <td>4.0</td>\n",
       "      <td>4.0</td>\n",
       "      <td>5.0</td>\n",
       "      <td>2.0</td>\n",
       "      <td>0</td>\n",
       "      <td>0</td>\n",
       "      <td>0</td>\n",
       "      <td>0</td>\n",
       "      <td>1</td>\n",
       "      <td>0</td>\n",
       "      <td>...</td>\n",
       "      <td>0</td>\n",
       "      <td>0</td>\n",
       "      <td>1</td>\n",
       "      <td>0</td>\n",
       "      <td>0</td>\n",
       "      <td>0</td>\n",
       "      <td>0</td>\n",
       "      <td>0</td>\n",
       "      <td>0</td>\n",
       "      <td>0</td>\n",
       "    </tr>\n",
       "  </tbody>\n",
       "</table>\n",
       "<p>5 rows × 225 columns</p>\n",
       "</div>"
      ],
      "text/plain": [
       "   bedrooms  bathrooms  toilets  parking_space  title_Block of Flats  \\\n",
       "0       6.0        5.0      5.0            4.0                     0   \n",
       "1       4.0        5.0      5.0            4.0                     0   \n",
       "2       4.0        5.0      5.0            4.0                     0   \n",
       "3       4.0        4.0      5.0            6.0                     0   \n",
       "4       4.0        4.0      5.0            2.0                     0   \n",
       "\n",
       "   title_Detached Bungalow  title_Detached Duplex  \\\n",
       "0                        0                      1   \n",
       "1                        0                      0   \n",
       "2                        0                      1   \n",
       "3                        0                      1   \n",
       "4                        0                      0   \n",
       "\n",
       "   title_Semi Detached Bungalow  title_Semi Detached Duplex  \\\n",
       "0                             0                           0   \n",
       "1                             0                           0   \n",
       "2                             0                           0   \n",
       "3                             0                           0   \n",
       "4                             0                           1   \n",
       "\n",
       "   title_Terraced Bungalow  ...  state_Kogi  state_Kwara  state_Lagos  \\\n",
       "0                        0  ...           0            0            0   \n",
       "1                        0  ...           0            0            0   \n",
       "2                        0  ...           0            0            1   \n",
       "3                        0  ...           0            0            1   \n",
       "4                        0  ...           0            0            1   \n",
       "\n",
       "   state_Nasarawa  state_Niger  state_Ogun  state_Osun  state_Oyo  \\\n",
       "0               0            0           0           0          0   \n",
       "1               0            0           0           0          0   \n",
       "2               0            0           0           0          0   \n",
       "3               0            0           0           0          0   \n",
       "4               0            0           0           0          0   \n",
       "\n",
       "   state_Plateau  state_Rivers  \n",
       "0              0             0  \n",
       "1              0             0  \n",
       "2              0             0  \n",
       "3              0             0  \n",
       "4              0             0  \n",
       "\n",
       "[5 rows x 225 columns]"
      ]
     },
     "execution_count": 51,
     "metadata": {},
     "output_type": "execute_result"
    }
   ],
   "source": [
    "# splitting the data into dependent and independent variable\n",
    "x = new_df.drop(columns=['price'])\n",
    "x.head()"
   ]
  },
  {
   "cell_type": "code",
   "execution_count": 30,
   "id": "1d8f1201",
   "metadata": {},
   "outputs": [
    {
     "data": {
      "text/plain": [
       "0    450000000.0\n",
       "1    800000000.0\n",
       "2    120000000.0\n",
       "3     40000000.0\n",
       "4     75000000.0\n",
       "Name: price, dtype: float64"
      ]
     },
     "execution_count": 30,
     "metadata": {},
     "output_type": "execute_result"
    }
   ],
   "source": [
    "y= df['price']\n",
    "y.head()"
   ]
  },
  {
   "cell_type": "markdown",
   "id": "b7b896ff",
   "metadata": {},
   "source": [
    "## Train Test Split"
   ]
  },
  {
   "cell_type": "code",
   "execution_count": 52,
   "id": "3329c69f",
   "metadata": {},
   "outputs": [],
   "source": [
    "x_train,x_test,y_train,y_test = train_test_split(x,y,test_size=0.2)"
   ]
  },
  {
   "cell_type": "code",
   "execution_count": 53,
   "id": "8c6811fc",
   "metadata": {},
   "outputs": [
    {
     "data": {
      "text/plain": [
       "(19460, 225)"
      ]
     },
     "execution_count": 53,
     "metadata": {},
     "output_type": "execute_result"
    }
   ],
   "source": [
    "x_train.shape"
   ]
  },
  {
   "cell_type": "code",
   "execution_count": 54,
   "id": "22cabf63",
   "metadata": {},
   "outputs": [
    {
     "data": {
      "text/plain": [
       "(19460,)"
      ]
     },
     "execution_count": 54,
     "metadata": {},
     "output_type": "execute_result"
    }
   ],
   "source": [
    "y_train.shape"
   ]
  },
  {
   "cell_type": "code",
   "execution_count": 55,
   "id": "7e6ce191",
   "metadata": {},
   "outputs": [
    {
     "data": {
      "text/plain": [
       "(4866, 225)"
      ]
     },
     "execution_count": 55,
     "metadata": {},
     "output_type": "execute_result"
    }
   ],
   "source": [
    "x_test.shape"
   ]
  },
  {
   "cell_type": "code",
   "execution_count": 56,
   "id": "fa95d084",
   "metadata": {},
   "outputs": [
    {
     "data": {
      "text/plain": [
       "(4866,)"
      ]
     },
     "execution_count": 56,
     "metadata": {},
     "output_type": "execute_result"
    }
   ],
   "source": [
    "y_test.shape"
   ]
  },
  {
   "cell_type": "markdown",
   "id": "e4d34d4b",
   "metadata": {},
   "source": [
    "## Train Model"
   ]
  },
  {
   "cell_type": "code",
   "execution_count": 59,
   "id": "5a8e5c9e",
   "metadata": {},
   "outputs": [],
   "source": [
    "lm =LinearRegression()\n"
   ]
  },
  {
   "cell_type": "code",
   "execution_count": 60,
   "id": "73670566",
   "metadata": {},
   "outputs": [
    {
     "data": {
      "text/plain": [
       "LinearRegression()"
      ]
     },
     "execution_count": 60,
     "metadata": {},
     "output_type": "execute_result"
    }
   ],
   "source": [
    "lm.fit(x_train,y_train)"
   ]
  },
  {
   "cell_type": "code",
   "execution_count": 61,
   "id": "93beb93e",
   "metadata": {},
   "outputs": [
    {
     "name": "stdout",
     "output_type": "stream",
     "text": [
      "Intercept3.373850243505427e+19\n"
     ]
    }
   ],
   "source": [
    "print(f\"Intercept{lm.intercept_}\")"
   ]
  },
  {
   "cell_type": "code",
   "execution_count": 62,
   "id": "89e5a180",
   "metadata": {},
   "outputs": [
    {
     "name": "stdout",
     "output_type": "stream",
     "text": [
      "coefficients[ 2.13246691e+08 -2.03416098e+07  1.06450248e+08  1.62144591e+08\n",
      "  4.86722032e+20  4.86722032e+20  4.86722032e+20  4.86722032e+20\n",
      "  4.86722032e+20  4.86722032e+20  4.86722032e+20 -2.92650804e+19\n",
      " -6.70475384e+19 -6.70475384e+19  7.92611389e+18 -4.58831549e+20\n",
      " -6.70475384e+19 -6.70475384e+19 -6.70475384e+19 -6.70475384e+19\n",
      " -6.70475384e+19 -6.70475384e+19 -6.70475384e+19 -6.70475384e+19\n",
      " -6.70475384e+19 -6.70475384e+19  7.92611389e+18 -6.70475384e+19\n",
      " -6.70475384e+19 -6.70475384e+19  7.92611389e+18 -6.70475384e+19\n",
      " -6.70475384e+19 -6.70475384e+19 -6.70475384e+19 -3.01767482e+20\n",
      " -6.70475384e+19 -2.05442182e+20 -6.70475384e+19 -6.70475384e+19\n",
      " -2.43606295e+20 -6.70475384e+19 -6.70475384e+19 -2.19261379e+20\n",
      " -6.70475384e+19 -6.70475384e+19 -6.70475384e+19 -6.70475384e+19\n",
      " -4.63066293e+19  3.69154019e+18  4.60060089e+17 -4.75708009e+19\n",
      " -6.70475384e+19 -9.39787556e+19 -6.70475384e+19 -6.70475384e+19\n",
      " -2.80027055e+20 -6.70475384e+19  7.92611389e+18 -6.70475384e+19\n",
      " -6.70475384e+19 -6.70475384e+19 -6.70475384e+19 -6.70475384e+19\n",
      " -6.70475384e+19 -2.56287860e+20 -6.70475384e+19 -6.70475384e+19\n",
      " -6.70475384e+19 -6.70475384e+19 -6.70475384e+19 -6.70475384e+19\n",
      " -6.70475384e+19 -6.70475384e+19 -6.70475384e+19 -5.97500479e+17\n",
      " -6.70475384e+19 -6.70475384e+19 -6.70475384e+19 -6.70475384e+19\n",
      " -6.70475384e+19 -6.70475384e+19 -6.70475384e+19 -6.70475384e+19\n",
      " -6.70475384e+19 -6.70475384e+19 -4.53122998e+17 -6.70475384e+19\n",
      " -6.70475384e+19 -6.70475384e+19 -9.39787556e+19 -6.70475384e+19\n",
      " -6.70475384e+19 -4.75708009e+19 -6.70475384e+19 -1.72962311e+20\n",
      " -1.72962311e+20 -1.72962311e+20 -6.70475384e+19 -6.70475384e+19\n",
      " -6.70475384e+19 -6.70475384e+19 -6.70475384e+19 -6.70475384e+19\n",
      " -6.70475384e+19 -6.70475384e+19 -6.70475384e+19 -1.61605416e+20\n",
      " -1.61605416e+20 -6.70475384e+19 -6.70475384e+19 -6.70475384e+19\n",
      " -2.05442182e+20 -2.05442182e+20 -6.70475384e+19 -6.70475384e+19\n",
      " -1.63722243e+20 -6.70475384e+19 -6.70475384e+19 -6.70475384e+19\n",
      " -6.70475384e+19 -6.70475384e+19 -6.70475384e+19 -6.70475384e+19\n",
      " -6.70475384e+19 -6.70475384e+19 -6.70475384e+19 -6.70475384e+19\n",
      " -6.70475384e+19 -6.70475384e+19 -7.36862597e+11 -6.70475384e+19\n",
      " -6.70475384e+19 -6.70475384e+19 -6.70475384e+19 -6.70475384e+19\n",
      " -2.19261379e+20 -6.70475384e+19 -6.70475384e+19 -6.70475384e+19\n",
      " -6.70475384e+19 -6.70475384e+19 -6.70475384e+19 -6.70475384e+19\n",
      " -6.70475384e+19 -6.70475384e+19 -6.70475384e+19 -6.70475384e+19\n",
      " -6.70475384e+19 -6.70475384e+19 -1.63722243e+20 -6.70475384e+19\n",
      " -6.70475384e+19 -6.70475384e+19 -6.70475384e+19 -6.70475384e+19\n",
      "  0.00000000e+00 -6.70475384e+19 -6.70475384e+19 -1.28000000e+03\n",
      " -6.70475384e+19 -6.70475384e+19 -2.19261379e+20  7.92611389e+18\n",
      " -6.70475384e+19 -4.75708009e+19 -6.70475384e+19 -6.70475384e+19\n",
      " -6.70475384e+19 -4.63066293e+19 -4.75708009e+19 -6.70475384e+19\n",
      " -6.70475384e+19 -6.70475384e+19 -6.70475384e+19 -6.70475384e+19\n",
      " -2.62781274e+20 -6.70475384e+19 -6.70475384e+19 -6.70475384e+19\n",
      " -6.70475384e+19 -6.70475384e+19 -6.70475384e+19  7.92611389e+18\n",
      "  1.56346046e+02  7.92611389e+18 -4.75708009e+19 -2.92650804e+19\n",
      " -6.70475384e+19  7.92611389e+18 -9.39787556e+19 -6.70475384e+19\n",
      "  7.92611389e+18 -6.70475384e+19 -6.70475384e+19 -6.70475384e+19\n",
      " -6.70475384e+19 -6.70475384e+19 -2.59448059e+20 -6.70475384e+19\n",
      " -4.91195454e+20 -4.53412996e+20 -4.26481779e+20 -4.53412996e+20\n",
      " -2.61012476e+20 -2.64172675e+20 -2.18693053e+20 -5.28386649e+20\n",
      " -4.72889734e+20 -6.16289857e+19 -2.40433479e+20 -4.53412996e+20\n",
      " -3.15018353e+20 -3.56738292e+20 -2.76854240e+20 -3.01199156e+20\n",
      " -3.47498224e+20 -4.53412996e+20 -4.53412996e+20 -2.57679261e+20\n",
      " -4.53412996e+20 -4.74153905e+20 -4.53412996e+20 -3.58855119e+20\n",
      " -4.53412996e+20]\n"
     ]
    }
   ],
   "source": [
    "print(f\"coefficients{lm.coef_}\")"
   ]
  },
  {
   "cell_type": "code",
   "execution_count": 63,
   "id": "858f309a",
   "metadata": {},
   "outputs": [
    {
     "data": {
      "text/html": [
       "<div>\n",
       "<style scoped>\n",
       "    .dataframe tbody tr th:only-of-type {\n",
       "        vertical-align: middle;\n",
       "    }\n",
       "\n",
       "    .dataframe tbody tr th {\n",
       "        vertical-align: top;\n",
       "    }\n",
       "\n",
       "    .dataframe thead th {\n",
       "        text-align: right;\n",
       "    }\n",
       "</style>\n",
       "<table border=\"1\" class=\"dataframe\">\n",
       "  <thead>\n",
       "    <tr style=\"text-align: right;\">\n",
       "      <th></th>\n",
       "      <th>coefficients</th>\n",
       "    </tr>\n",
       "  </thead>\n",
       "  <tbody>\n",
       "    <tr>\n",
       "      <th>bedrooms</th>\n",
       "      <td>2.132467e+08</td>\n",
       "    </tr>\n",
       "    <tr>\n",
       "      <th>bathrooms</th>\n",
       "      <td>-2.034161e+07</td>\n",
       "    </tr>\n",
       "    <tr>\n",
       "      <th>toilets</th>\n",
       "      <td>1.064502e+08</td>\n",
       "    </tr>\n",
       "    <tr>\n",
       "      <th>parking_space</th>\n",
       "      <td>1.621446e+08</td>\n",
       "    </tr>\n",
       "    <tr>\n",
       "      <th>title_Block of Flats</th>\n",
       "      <td>4.867220e+20</td>\n",
       "    </tr>\n",
       "    <tr>\n",
       "      <th>...</th>\n",
       "      <td>...</td>\n",
       "    </tr>\n",
       "    <tr>\n",
       "      <th>state_Ogun</th>\n",
       "      <td>-4.534130e+20</td>\n",
       "    </tr>\n",
       "    <tr>\n",
       "      <th>state_Osun</th>\n",
       "      <td>-4.741539e+20</td>\n",
       "    </tr>\n",
       "    <tr>\n",
       "      <th>state_Oyo</th>\n",
       "      <td>-4.534130e+20</td>\n",
       "    </tr>\n",
       "    <tr>\n",
       "      <th>state_Plateau</th>\n",
       "      <td>-3.588551e+20</td>\n",
       "    </tr>\n",
       "    <tr>\n",
       "      <th>state_Rivers</th>\n",
       "      <td>-4.534130e+20</td>\n",
       "    </tr>\n",
       "  </tbody>\n",
       "</table>\n",
       "<p>225 rows × 1 columns</p>\n",
       "</div>"
      ],
      "text/plain": [
       "                      coefficients\n",
       "bedrooms              2.132467e+08\n",
       "bathrooms            -2.034161e+07\n",
       "toilets               1.064502e+08\n",
       "parking_space         1.621446e+08\n",
       "title_Block of Flats  4.867220e+20\n",
       "...                            ...\n",
       "state_Ogun           -4.534130e+20\n",
       "state_Osun           -4.741539e+20\n",
       "state_Oyo            -4.534130e+20\n",
       "state_Plateau        -3.588551e+20\n",
       "state_Rivers         -4.534130e+20\n",
       "\n",
       "[225 rows x 1 columns]"
      ]
     },
     "execution_count": 63,
     "metadata": {},
     "output_type": "execute_result"
    }
   ],
   "source": [
    "coef_df = pd.DataFrame(lm.coef_,x.columns,columns = ['coefficients'])\n",
    "coef_df"
   ]
  },
  {
   "cell_type": "markdown",
   "id": "09001d14",
   "metadata": {},
   "source": [
    "## Predictions"
   ]
  },
  {
   "cell_type": "code",
   "execution_count": 64,
   "id": "1818552b",
   "metadata": {},
   "outputs": [
    {
     "data": {
      "text/plain": [
       "array([-2.33787392e+08, -3.96316672e+08,  1.06278912e+08, ...,\n",
       "        9.62441216e+08,  2.36892160e+08,  7.82295040e+07])"
      ]
     },
     "execution_count": 64,
     "metadata": {},
     "output_type": "execute_result"
    }
   ],
   "source": [
    "y_pred = lm.predict(x_test)\n",
    "y_pred"
   ]
  },
  {
   "cell_type": "code",
   "execution_count": 65,
   "id": "10236264",
   "metadata": {},
   "outputs": [
    {
     "data": {
      "image/png": "[encoded data removed]",
      "text/plain": [
       "<Figure size 432x288 with 1 Axes>"
      ]
     },
     "metadata": {
      "needs_background": "light"
     },
     "output_type": "display_data"
    }
   ],
   "source": [
    "# compare thr y_pred and y_test\n",
    "sns.scatterplot(x=y_test,y=y_pred)\n",
    "plt.title('Relatioship of y_test and y_pred')\n",
    "plt.show()"
   ]
  },
  {
   "cell_type": "markdown",
   "id": "5d58160a",
   "metadata": {},
   "source": [
    "## Model Evaluation"
   ]
  },
  {
   "cell_type": "code",
   "execution_count": 66,
   "id": "e010f5cb",
   "metadata": {},
   "outputs": [],
   "source": [
    "from sklearn import metrics"
   ]
  },
  {
   "cell_type": "code",
   "execution_count": 67,
   "id": "d5351e14",
   "metadata": {},
   "outputs": [
    {
     "name": "stdout",
     "output_type": "stream",
     "text": [
      "Mean Absolute Error 1.3500177096407994e+17.\n"
     ]
    }
   ],
   "source": [
    "print(f\"Mean Absolute Error {metrics.mean_absolute_error(y_test,y_pred)}.\")"
   ]
  },
  {
   "cell_type": "code",
   "execution_count": 45,
   "id": "eb0ee532",
   "metadata": {},
   "outputs": [
    {
     "name": "stdout",
     "output_type": "stream",
     "text": [
      "Mean square Error 364710130.2221922.\n"
     ]
    }
   ],
   "source": [
    "print(f\"Mean square Error {metrics.mean_absolute_error(y_test,y_pred)}.\")"
   ]
  },
  {
   "cell_type": "markdown",
   "id": "60a9eabe",
   "metadata": {},
   "source": [
    "## Other Models"
   ]
  },
  {
   "cell_type": "code",
   "execution_count": 72,
   "id": "b0cbbbe3",
   "metadata": {},
   "outputs": [],
   "source": [
    "from sklearn.neighbors import KNeighborsRegressor\n",
    "from sklearn.ensemble import RandomForestRegressor,GradientBoostingRegressor\n",
    "from sklearn.tree import DecisionTreeRegressor\n",
    "from sklearn.metrics import mean_squared_error,r2_score"
   ]
  },
  {
   "cell_type": "code",
   "execution_count": 73,
   "id": "678a283b",
   "metadata": {},
   "outputs": [
    {
     "name": "stdout",
     "output_type": "stream",
     "text": [
      "Linear Regression: \n",
      "MSE: 17839973584376380424931888448730562560.0000\n",
      "R2 Score: -689808822870822784.0000\n",
      "-*-*-*-*-*-*-*-*-*-*-\n",
      "Decision Tree Regression: \n",
      "MSE: 112232103679447465984.0000\n",
      "R2 Score: -3.3396\n",
      "-*-*-*-*-*-*-*-*-*-*-\n",
      "Random Forest Regression: \n",
      "MSE: 133450085450260529152.0000\n",
      "R2 Score: -4.1600\n",
      "-*-*-*-*-*-*-*-*-*-*-\n",
      "Gradient Boosting Regression: \n",
      "MSE: 48163636521755516928.0000\n",
      "R2 Score: -0.8623\n",
      "-*-*-*-*-*-*-*-*-*-*-\n",
      "KNN Regression: \n",
      "MSE: 79065543462205865984.0000\n",
      "R2 Score: -2.0572\n",
      "-*-*-*-*-*-*-*-*-*-*-\n"
     ]
    }
   ],
   "source": [
    "models = {\n",
    "    'Linear Regression': LinearRegression(),\n",
    "    'Decision Tree Regression': DecisionTreeRegressor(),\n",
    "    'Random Forest Regression': RandomForestRegressor(),\n",
    "    'Gradient Boosting Regression':GradientBoostingRegressor(),\n",
    "    'KNN Regression': KNeighborsRegressor()\n",
    "}\n",
    "\n",
    "for name,model in models.items():\n",
    "    model.fit(x_train,y_train) #train model\n",
    "    y_pred = model.predict(x_test) #make prediction\n",
    "    \n",
    "    #calculate MSE\n",
    "    mse = mean_squared_error(y_test,y_pred)\n",
    "    #calculate R2 score\n",
    "    r2 = r2_score(y_test,y_pred)\n",
    "    \n",
    "    print(f'{name}: ')\n",
    "    print(f'MSE: {mse:.4f}')\n",
    "    print(f'R2 Score: {r2:.4f}')\n",
    "    print('-*-*-*-*-*-*-*-*-*-*-')"
   ]
  },
  {
   "cell_type": "code",
   "execution_count": 74,
   "id": "b95f95ce",
   "metadata": {},
   "outputs": [],
   "source": [
    "import joblib"
   ]
  },
  {
   "cell_type": "code",
   "execution_count": 75,
   "id": "a254815e",
   "metadata": {},
   "outputs": [
    {
     "data": {
      "text/plain": [
       "['model.pk']"
      ]
     },
     "execution_count": 75,
     "metadata": {},
     "output_type": "execute_result"
    }
   ],
   "source": [
    "# dump model in a file\n",
    "joblib.dump(lm,'model.pk')"
   ]
  },
  {
   "cell_type": "code",
   "execution_count": 76,
   "id": "2df548cf",
   "metadata": {},
   "outputs": [],
   "source": [
    "model = joblib.load('model.pk')"
   ]
  },
  {
   "cell_type": "code",
   "execution_count": 77,
   "id": "b638a8e8",
   "metadata": {},
   "outputs": [
    {
     "data": {
      "text/plain": [
       "array([-2.33787392e+08, -3.96316672e+08,  1.06278912e+08, ...,\n",
       "        9.62441216e+08,  2.36892160e+08,  7.82295040e+07])"
      ]
     },
     "execution_count": 77,
     "metadata": {},
     "output_type": "execute_result"
    }
   ],
   "source": [
    "model.predict(x_test)"
   ]
  },
  {
   "cell_type": "code",
   "execution_count": null,
   "id": "7208e096",
   "metadata": {},
   "outputs": [],
   "source": []
  }
 ],
 "metadata": {
  "kernelspec": {
   "display_name": "Python 3 (ipykernel)",
   "language": "python",
   "name": "python3"
  },
  "language_info": {
   "codemirror_mode": {
    "name": "ipython",
    "version": 3
   },
   "file_extension": ".py",
   "mimetype": "text/x-python",
   "name": "python",
   "nbconvert_exporter": "python",
   "pygments_lexer": "ipython3",
   "version": "3.9.12"
  }
 },
 "nbformat": 4,
 "nbformat_minor": 5
}
